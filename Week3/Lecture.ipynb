{
 "cells": [
  {
   "cell_type": "code",
   "id": "initial_id",
   "metadata": {
    "collapsed": true,
    "ExecuteTime": {
     "end_time": "2024-09-30T13:05:17.532539Z",
     "start_time": "2024-09-30T13:05:17.373390Z"
    }
   },
   "source": "import numpy as np",
   "outputs": [],
   "execution_count": 1
  },
  {
   "metadata": {
    "ExecuteTime": {
     "end_time": "2024-09-30T13:05:27.457810Z",
     "start_time": "2024-09-30T13:05:27.448546Z"
    }
   },
   "cell_type": "code",
   "source": [
    "l1 = [1, 2, 3, 4]\n",
    "l2 = [1, 2, 3, 4]\n",
    "print(l1 + l2)"
   ],
   "id": "ee58670051e54cce",
   "outputs": [
    {
     "name": "stdout",
     "output_type": "stream",
     "text": [
      "[1, 2, 3, 4, 1, 2, 3, 4]\n"
     ]
    }
   ],
   "execution_count": 2
  },
  {
   "metadata": {
    "ExecuteTime": {
     "end_time": "2024-09-30T13:18:59.838740Z",
     "start_time": "2024-09-30T13:18:59.822063Z"
    }
   },
   "cell_type": "code",
   "source": [
    "l1 = np.array([1, 2, 3, 4, 5])\n",
    "l2 = np.array([1, 2, 3, 4, 5])\n",
    "print(l1 + l2)\n"
   ],
   "id": "2bc45189b5274483",
   "outputs": [
    {
     "name": "stdout",
     "output_type": "stream",
     "text": [
      "[ 2  4  6  8 10]\n"
     ]
    }
   ],
   "execution_count": 12
  },
  {
   "metadata": {
    "ExecuteTime": {
     "end_time": "2024-09-30T13:19:55.190695Z",
     "start_time": "2024-09-30T13:19:55.182517Z"
    }
   },
   "cell_type": "code",
   "source": [
    "a = np.arange(25).reshape(5, 5)\n",
    "print(a)"
   ],
   "id": "9b266122af32d873",
   "outputs": [
    {
     "name": "stdout",
     "output_type": "stream",
     "text": [
      "[[ 0  1  2  3  4]\n",
      " [ 5  6  7  8  9]\n",
      " [10 11 12 13 14]\n",
      " [15 16 17 18 19]\n",
      " [20 21 22 23 24]]\n"
     ]
    }
   ],
   "execution_count": 14
  },
  {
   "metadata": {
    "ExecuteTime": {
     "end_time": "2024-09-30T13:25:01.351842Z",
     "start_time": "2024-09-30T13:25:01.339240Z"
    }
   },
   "cell_type": "code",
   "source": [
    "red_slice = a[:, 1::2]\n",
    "print(red_slice)"
   ],
   "id": "1748c40224393de6",
   "outputs": [
    {
     "name": "stdout",
     "output_type": "stream",
     "text": [
      "[[ 1  3]\n",
      " [ 6  8]\n",
      " [11 13]\n",
      " [16 18]\n",
      " [21 23]]\n"
     ]
    }
   ],
   "execution_count": 17
  },
  {
   "metadata": {
    "ExecuteTime": {
     "end_time": "2024-09-30T13:25:49.447119Z",
     "start_time": "2024-09-30T13:25:49.433369Z"
    }
   },
   "cell_type": "code",
   "source": [
    "blue_slice = a[1::2, [0, 2]]\n",
    "print(blue_slice)"
   ],
   "id": "17aab6d98723bea3",
   "outputs": [
    {
     "name": "stdout",
     "output_type": "stream",
     "text": [
      "[[ 5  7]\n",
      " [15 17]]\n"
     ]
    }
   ],
   "execution_count": 19
  },
  {
   "metadata": {
    "ExecuteTime": {
     "end_time": "2024-09-30T13:32:33.990509Z",
     "start_time": "2024-09-30T13:32:33.982101Z"
    }
   },
   "cell_type": "code",
   "source": [
    "a = np.array([10, 20, 30, 40, 50])\n",
    "indices = [1, 3, -1]\n",
    "result = a[indices]\n",
    "print(result)"
   ],
   "id": "430fe6db051d14a5",
   "outputs": [
    {
     "name": "stdout",
     "output_type": "stream",
     "text": [
      "[20 40 50]\n"
     ]
    }
   ],
   "execution_count": 20
  },
  {
   "metadata": {
    "ExecuteTime": {
     "end_time": "2024-09-30T13:34:16.547810Z",
     "start_time": "2024-09-30T13:34:16.542678Z"
    }
   },
   "cell_type": "code",
   "source": [
    "# Indexing with booleans\n",
    "b = np.array([1, 0, 1, 1, 0], dtype=set)\n",
    "print(b)"
   ],
   "id": "84ec6c897f543843",
   "outputs": [
    {
     "name": "stdout",
     "output_type": "stream",
     "text": [
      "[1 0 1 1 0]\n"
     ]
    }
   ],
   "execution_count": 24
  },
  {
   "metadata": {
    "ExecuteTime": {
     "end_time": "2024-09-30T13:39:01.845881Z",
     "start_time": "2024-09-30T13:39:01.835550Z"
    }
   },
   "cell_type": "code",
   "source": [
    "A = np.arange(25).reshape(5, 5)\n",
    "print(A)\n",
    "print(\"================\")\n",
    "blue_elements = np.diagonal(A, offset=-1)\n",
    "print(blue_elements)\n"
   ],
   "id": "48e8361a562c2d9f",
   "outputs": [
    {
     "name": "stdout",
     "output_type": "stream",
     "text": [
      "[[ 0  1  2  3  4]\n",
      " [ 5  6  7  8  9]\n",
      " [10 11 12 13 14]\n",
      " [15 16 17 18 19]\n",
      " [20 21 22 23 24]]\n",
      "================\n",
      "[ 5 11 17 23]\n"
     ]
    }
   ],
   "execution_count": 29
  },
  {
   "metadata": {
    "ExecuteTime": {
     "end_time": "2024-09-30T13:42:30.918539Z",
     "start_time": "2024-09-30T13:42:30.913968Z"
    }
   },
   "cell_type": "code",
   "source": "print(A[(A % 3 == 0)])",
   "id": "b041a7b2e8a86180",
   "outputs": [
    {
     "name": "stdout",
     "output_type": "stream",
     "text": [
      "[ 0  3  6  9 12 15 18 21 24]\n"
     ]
    }
   ],
   "execution_count": 31
  }
 ],
 "metadata": {
  "kernelspec": {
   "display_name": "Python 3",
   "language": "python",
   "name": "python3"
  },
  "language_info": {
   "codemirror_mode": {
    "name": "ipython",
    "version": 2
   },
   "file_extension": ".py",
   "mimetype": "text/x-python",
   "name": "python",
   "nbconvert_exporter": "python",
   "pygments_lexer": "ipython2",
   "version": "2.7.6"
  }
 },
 "nbformat": 4,
 "nbformat_minor": 5
}
