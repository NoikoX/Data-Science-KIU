{
 "cells": [
  {
   "cell_type": "code",
   "id": "initial_id",
   "metadata": {
    "collapsed": true,
    "ExecuteTime": {
     "end_time": "2024-09-29T11:48:42.642159Z",
     "start_time": "2024-09-29T11:48:42.637951Z"
    }
   },
   "source": [
    "import csv\n",
    "import random"
   ],
   "outputs": [],
   "execution_count": 13
  },
  {
   "metadata": {
    "ExecuteTime": {
     "end_time": "2024-09-29T11:48:44.245153Z",
     "start_time": "2024-09-29T11:48:44.240636Z"
    }
   },
   "cell_type": "code",
   "source": [
    "students = [\"Noe\", \"Rati\", \"Mato\", \"Vano\", \"Ormo\"]\n",
    "grades = [[random.randint(60, 100) for _ in range(3)] for _ in range(5)]\n",
    "\n",
    "print(grades)"
   ],
   "id": "ba415f89ea6065c4",
   "outputs": [
    {
     "name": "stdout",
     "output_type": "stream",
     "text": [
      "[[87, 99, 93], [82, 68, 81], [83, 62, 60], [63, 86, 82], [60, 96, 63]]\n"
     ]
    }
   ],
   "execution_count": 14
  },
  {
   "metadata": {
    "ExecuteTime": {
     "end_time": "2024-09-29T11:50:55.235142Z",
     "start_time": "2024-09-29T11:50:55.229976Z"
    }
   },
   "cell_type": "code",
   "source": [
    "with open('students.csv', 'w', newline='') as csvfile:\n",
    "    csvwriter = csv.writer(csvfile)\n",
    "    csvwriter.writerow(['Name', 'Grade1', 'Grade2', 'Grade3'])\n",
    "    \n",
    "    for i in range(len(students)):\n",
    "        csvwriter.writerow([students[i]] + grades[i])\n"
   ],
   "id": "ddd7bf4d59d18936",
   "outputs": [],
   "execution_count": 16
  },
  {
   "metadata": {
    "ExecuteTime": {
     "end_time": "2024-09-29T11:52:07.383082Z",
     "start_time": "2024-09-29T11:52:07.378798Z"
    }
   },
   "cell_type": "code",
   "source": [
    "with open('subjects.txt', 'w') as subjectfile:\n",
    "    subjectfile.write(\"Math\\nScience\\nHistory\\n\")\n"
   ],
   "id": "99ae0a0e20b8b645",
   "outputs": [],
   "execution_count": 17
  },
  {
   "metadata": {
    "ExecuteTime": {
     "end_time": "2024-09-29T12:48:52.485681Z",
     "start_time": "2024-09-29T12:48:52.481269Z"
    }
   },
   "cell_type": "code",
   "source": [
    "student_grades = {}\n",
    "\n",
    "try:\n",
    "    with open('students.csv', 'r') as csvfile:\n",
    "        csvreader = csv.DictReader(csvfile)\n",
    "        \n",
    "        with open('subjects.txt', 'r') as subjectfile:\n",
    "            subjects = [line.strip() for line in subjectfile.readlines()]  \n",
    "        \n",
    "\n",
    "        for row in csvreader:\n",
    "            student_name = row['Name']\n",
    "            student_grades[student_name] = {\n",
    "                subjects[0]: int(row['Grade1']),\n",
    "                subjects[1]: int(row['Grade2']),\n",
    "                subjects[2]: int(row['Grade3']),\n",
    "            }\n",
    "\n",
    "except FileNotFoundError as e:\n",
    "    print(f\"Error: {e}\")\n",
    "except Exception as e:\n",
    "    print(f\"An error occurred: {e}\")\n"
   ],
   "id": "5097c71e49731c5f",
   "outputs": [],
   "execution_count": 18
  },
  {
   "metadata": {
    "ExecuteTime": {
     "end_time": "2024-09-29T12:51:53.171844Z",
     "start_time": "2024-09-29T12:51:53.168006Z"
    }
   },
   "cell_type": "code",
   "source": [
    "averages = {}\n",
    "\n",
    "for student, grade in student_grades.items():\n",
    "    avg = sum(grade.values()) / len(grade)\n",
    "    averages[student] = avg\n",
    "    \n",
    "print(averages)\n"
   ],
   "id": "301331e73721ba10",
   "outputs": [
    {
     "name": "stdout",
     "output_type": "stream",
     "text": [
      "{'Noe': 93.0, 'Rati': 77.0, 'Mato': 68.33333333333333, 'Vano': 77.0, 'Ormo': 73.0}\n"
     ]
    }
   ],
   "execution_count": 21
  },
  {
   "metadata": {
    "ExecuteTime": {
     "end_time": "2024-09-29T12:52:37.221400Z",
     "start_time": "2024-09-29T12:52:37.216688Z"
    }
   },
   "cell_type": "code",
   "source": [
    "top_student = max(averages, key=averages.get)\n",
    "top_grades = student_grades[top_student]\n",
    "\n",
    "print(top_student)\n",
    "print(top_grades)"
   ],
   "id": "81226d070599d15f",
   "outputs": [
    {
     "name": "stdout",
     "output_type": "stream",
     "text": [
      "Noe\n",
      "{'Math': 87, 'Science': 99, 'History': 93}\n"
     ]
    }
   ],
   "execution_count": 23
  },
  {
   "metadata": {
    "ExecuteTime": {
     "end_time": "2024-09-29T12:57:37.991729Z",
     "start_time": "2024-09-29T12:57:37.986334Z"
    }
   },
   "cell_type": "code",
   "source": [
    "with open('top_student.txt', 'w') as f:\n",
    "    f.write(f\"Top student: {top_student}\\n\")\n",
    "    f.write(f\"Average grade: {averages[top_student]:.2f}\\n\")\n",
    "    for subject, grade in top_grades.items():\n",
    "        f.write(f\"{subject}: {grade}\\n\")\n",
    "    \n",
    "print(\"Done, check out the top student file\")"
   ],
   "id": "75be6e562220ee2f",
   "outputs": [
    {
     "name": "stdout",
     "output_type": "stream",
     "text": [
      "Done, check out the topstudent file\n"
     ]
    }
   ],
   "execution_count": 27
  }
 ],
 "metadata": {
  "kernelspec": {
   "display_name": "Python 3",
   "language": "python",
   "name": "python3"
  },
  "language_info": {
   "codemirror_mode": {
    "name": "ipython",
    "version": 2
   },
   "file_extension": ".py",
   "mimetype": "text/x-python",
   "name": "python",
   "nbconvert_exporter": "python",
   "pygments_lexer": "ipython2",
   "version": "2.7.6"
  }
 },
 "nbformat": 4,
 "nbformat_minor": 5
}
