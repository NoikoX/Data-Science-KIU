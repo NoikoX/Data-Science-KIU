{
 "cells": [
  {
   "cell_type": "code",
   "execution_count": 1,
   "metadata": {},
   "outputs": [
    {
     "name": "stdout",
     "output_type": "stream",
     "text": [
      "Noe 25\n"
     ]
    }
   ],
   "source": [
    "age = 25\n",
    "name = \"Noe\"\n",
    "print(name, age)"
   ]
  },
  {
   "cell_type": "code",
   "execution_count": 2,
   "metadata": {},
   "outputs": [
    {
     "name": "stdout",
     "output_type": "stream",
     "text": [
      "<class 'float'> <class 'int'>\n"
     ]
    }
   ],
   "source": [
    "length = 10.5\n",
    "int_length = int(length)\n",
    "print(type(length), type(int_length))"
   ]
  },
  {
   "cell_type": "code",
   "execution_count": 4,
   "metadata": {},
   "outputs": [
    {
     "name": "stdout",
     "output_type": "stream",
     "text": [
      "x: 5, y: 10.5, z: Hello\n"
     ]
    }
   ],
   "source": [
    "x, y, z = 5, 10.5, 'Hello'\n",
    "print(f\"x: {x}, y: {y}, z: {z}\")"
   ]
  },
  {
   "cell_type": "code",
   "execution_count": 7,
   "metadata": {},
   "outputs": [
    {
     "name": "stdout",
     "output_type": "stream",
     "text": [
      "Hi Noe\n"
     ]
    }
   ],
   "source": [
    "def greet(name):\n",
    "    print(f\"Hi {name}\")\n",
    "\n",
    "greet('Noe')"
   ]
  },
  {
   "cell_type": "code",
   "execution_count": 9,
   "metadata": {},
   "outputs": [
    {
     "name": "stdout",
     "output_type": "stream",
     "text": [
      "True False\n"
     ]
    }
   ],
   "source": [
    "def is_even(num):\n",
    "    return num % 2 == 0\n",
    "\n",
    "print(is_even(4), is_even(7))"
   ]
  },
  {
   "cell_type": "code",
   "execution_count": 11,
   "metadata": {},
   "outputs": [
    {
     "name": "stdout",
     "output_type": "stream",
     "text": [
      "apple red\n",
      "banana yellow\n",
      "orange orange\n"
     ]
    }
   ],
   "source": [
    "fruits = [\"apple\", \"banana\", \"orange\"]\n",
    "fruit_colors = {\"apple\": \"red\", \"banana\": \"yellow\", \"orange\": \"orange\"}\n",
    "for fruit in fruits:\n",
    "    print(fruit, fruit_colors[fruit])\n"
   ]
  },
  {
   "cell_type": "code",
   "execution_count": 12,
   "metadata": {},
   "outputs": [
    {
     "name": "stdout",
     "output_type": "stream",
     "text": [
      "[1, 4, 9, 16, 25, 36, 49, 64, 81, 100]\n"
     ]
    }
   ],
   "source": [
    "print([i * i for i in range(1, 11)])"
   ]
  },
  {
   "cell_type": "code",
   "execution_count": 13,
   "metadata": {},
   "outputs": [
    {
     "name": "stdout",
     "output_type": "stream",
     "text": [
      "3\n",
      "6\n",
      "9\n",
      "12\n",
      "15\n",
      "18\n"
     ]
    }
   ],
   "source": [
    "for i in range(1, 21):\n",
    "    if i % 3 == 0:\n",
    "        print(i)"
   ]
  },
  {
   "cell_type": "code",
   "execution_count": 14,
   "metadata": {},
   "outputs": [
    {
     "name": "stdout",
     "output_type": "stream",
     "text": [
      "1\n",
      "2\n",
      "Fizz\n",
      "4\n",
      "Buzz\n",
      "Fizz\n",
      "7\n",
      "8\n",
      "Fizz\n",
      "Buzz\n",
      "11\n",
      "Fizz\n",
      "13\n",
      "14\n",
      "FizzBuzz\n",
      "16\n",
      "17\n",
      "Fizz\n",
      "19\n",
      "Buzz\n"
     ]
    }
   ],
   "source": [
    "def fizz_buzz(n):\n",
    "    for i in range(1, n + 1):\n",
    "        if i % 3 == 0 and i % 5 == 0:\n",
    "            print(\"FizzBuzz\")\n",
    "        elif i % 3 == 0:\n",
    "            print(\"Fizz\")\n",
    "        elif i % 5 == 0:\n",
    "            print(\"Buzz\")\n",
    "        else:\n",
    "            print(i)\n",
    "            \n",
    "fizz_buzz(20)"
   ]
  },
  {
   "cell_type": "code",
   "execution_count": 18,
   "metadata": {},
   "outputs": [
    {
     "name": "stdout",
     "output_type": "stream",
     "text": [
      "You cannot divide by zeroooo\n",
      "3.0\n"
     ]
    }
   ],
   "source": [
    "def div(x, y):\n",
    "    try:\n",
    "        result = x / y\n",
    "    except ZeroDivisionError:\n",
    "        return 'You cannot divide by zeroooo'\n",
    "    else:\n",
    "        return result\n",
    "        \n",
    "    \n",
    "print(div(3, 0))\n",
    "print(div(3, 1))"
   ]
  },
  {
   "cell_type": "code",
   "metadata": {
    "ExecuteTime": {
     "end_time": "2024-09-30T11:20:41.319733Z",
     "start_time": "2024-09-30T11:20:41.314966Z"
    }
   },
   "source": [
    "def elem(l, idx):\n",
    "    try:\n",
    "        result = l[idx]\n",
    "    except IndexError:\n",
    "        return \"Index out of bounds\"\n",
    "    else:\n",
    "        return result\n",
    "    \n",
    "print(elem([1, 2, 3], 2))\n",
    "print(elem([1, 2, 3, 4], 8))"
   ],
   "outputs": [
    {
     "name": "stdout",
     "output_type": "stream",
     "text": [
      "3\n",
      "Index out of bounds\n"
     ]
    }
   ],
   "execution_count": 2
  },
  {
   "cell_type": "code",
   "execution_count": 28,
   "metadata": {},
   "outputs": [
    {
     "name": "stdout",
     "output_type": "stream",
     "text": [
      "Invalid input, pleasee enter a valid integer\n",
      "The square of 4 is 16\n"
     ]
    }
   ],
   "source": [
    "def square():\n",
    "    while True:\n",
    "        try:\n",
    "            user_input = int(input(\"Enter a num: \"))\n",
    "            print(f\"The square of {user_input} is {user_input * user_input}\")\n",
    "            break\n",
    "        except ValueError:\n",
    "            print(\"Invalid input, pleasee enter a valid integer\")\n",
    "            \n",
    "square()\n",
    "\n"
   ]
  },
  {
   "cell_type": "code",
   "execution_count": 32,
   "metadata": {},
   "outputs": [
    {
     "name": "stdout",
     "output_type": "stream",
     "text": [
      "File creation was succesful or smth like that\n"
     ]
    }
   ],
   "source": [
    "file_name = 'hello.txt'\n",
    "with open(file_name, 'w') as file:\n",
    "    file.write(\"Hello, World!\")\n",
    "print(\"File creation was succesful or smth like that\")"
   ]
  },
  {
   "cell_type": "code",
   "execution_count": 33,
   "metadata": {},
   "outputs": [
    {
     "name": "stdout",
     "output_type": "stream",
     "text": [
      "Hello, World!\n"
     ]
    }
   ],
   "source": [
    "try:\n",
    "    with open('hello.txt', 'r') as file:\n",
    "        content = file.read()\n",
    "        print(content)\n",
    "except FileNotFoundError:\n",
    "    print(\"file does not existt\")\n",
    "    "
   ]
  },
  {
   "cell_type": "code",
   "execution_count": 35,
   "metadata": {},
   "outputs": [
    {
     "name": "stdout",
     "output_type": "stream",
     "text": [
      "Sum of numbers: 143861\n",
      "Average of numbers: 13078.272727272728\n"
     ]
    }
   ],
   "source": [
    "def thing():\n",
    "    try:\n",
    "        with open('numbers.txt', 'r') as file:\n",
    "            numbers = []\n",
    "            for line in file:\n",
    "                try:\n",
    "                    number = int(line.strip())\n",
    "                    numbers.append(number)\n",
    "                except ValueError:\n",
    "                    print(f\"Warning: '{line.strip()}' is not a valid number and will be skipped sorry...\")\n",
    "        \n",
    "        if numbers:\n",
    "            total = sum(numbers)\n",
    "            average = total / len(numbers)\n",
    "            print(f\"Sum of numbers: {total}\")\n",
    "            print(f\"Average of numbers: {average}\")\n",
    "        else:\n",
    "            print(\"No valid numbers found in the file.\")\n",
    "    \n",
    "    except FileNotFoundError:\n",
    "        print(\"Error: The file 'numbers.txt' does not exist.\")\n",
    "\n",
    "\n",
    "thing()\n"
   ]
  },
  {
   "cell_type": "code",
   "execution_count": null,
   "metadata": {},
   "outputs": [],
   "source": []
  }
 ],
 "metadata": {
  "kernelspec": {
   "display_name": ".venv",
   "language": "python",
   "name": "python3"
  },
  "language_info": {
   "codemirror_mode": {
    "name": "ipython",
    "version": 3
   },
   "file_extension": ".py",
   "mimetype": "text/x-python",
   "name": "python",
   "nbconvert_exporter": "python",
   "pygments_lexer": "ipython3",
   "version": "3.11.1"
  }
 },
 "nbformat": 4,
 "nbformat_minor": 2
}
