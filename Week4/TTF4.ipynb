{
 "cells": [
  {
   "cell_type": "code",
   "execution_count": 5,
   "metadata": {},
   "outputs": [],
   "source": [
    "import pandas as pd"
   ]
  },
  {
   "cell_type": "code",
   "execution_count": 6,
   "metadata": {},
   "outputs": [
    {
     "name": "stdout",
     "output_type": "stream",
     "text": [
      "0    1\n",
      "1    2\n",
      "2    3\n",
      "3    7\n",
      "4    9\n",
      "dtype: int64\n"
     ]
    }
   ],
   "source": [
    "listunia = [1, 2, 3, 7, 9]\n",
    "series = pd.Series(listunia)\n",
    "print(series)"
   ]
  },
  {
   "cell_type": "code",
   "execution_count": 7,
   "metadata": {},
   "outputs": [
    {
     "name": "stdout",
     "output_type": "stream",
     "text": [
      "   ID     Name  Age   Salary Department\n",
      "0   1    Alice   24  50000.0         HR\n",
      "1   2      Bob   30  60000.0    Finance\n",
      "2   3  Charlie   35  55000.0         HR\n",
      "3   4    David   29      NaN         IT\n",
      "4   5      Eva   42  62000.0    Finance\n"
     ]
    }
   ],
   "source": [
    "df = pd.read_csv('Data.csv')\n",
    "print(df.head())"
   ]
  },
  {
   "cell_type": "code",
   "execution_count": 9,
   "metadata": {},
   "outputs": [
    {
     "name": "stdout",
     "output_type": "stream",
     "text": [
      "[50000.0, 60000.0, 55000.0, nan, 62000.0]\n"
     ]
    }
   ],
   "source": [
    "salary = df['Salary'].tolist()\n",
    "print(salary)"
   ]
  },
  {
   "cell_type": "code",
   "execution_count": 10,
   "metadata": {},
   "outputs": [
    {
     "name": "stdout",
     "output_type": "stream",
     "text": [
      "   ID   Name  Age  Salary Department\n",
      "3   4  David   29     NaN         IT\n"
     ]
    }
   ],
   "source": [
    "missing_vals = df[df['Salary'].isnull()]\n",
    "print(missing_vals)"
   ]
  },
  {
   "cell_type": "code",
   "execution_count": 12,
   "metadata": {},
   "outputs": [
    {
     "name": "stdout",
     "output_type": "stream",
     "text": [
      "   ID     Name  Age   Salary Department\n",
      "0   1    Alice   24  50000.0         HR\n",
      "1   2      Bob   30  60000.0    Finance\n",
      "2   3  Charlie   35  55000.0         HR\n",
      "3   4    David   29  56750.0         IT\n",
      "4   5      Eva   42  62000.0    Finance\n"
     ]
    },
    {
     "name": "stderr",
     "output_type": "stream",
     "text": [
      "C:\\Users\\NOIKO\\AppData\\Local\\Temp\\ipykernel_5604\\2483764189.py:2: FutureWarning: A value is trying to be set on a copy of a DataFrame or Series through chained assignment using an inplace method.\n",
      "The behavior will change in pandas 3.0. This inplace method will never work because the intermediate object on which we are setting values always behaves as a copy.\n",
      "\n",
      "For example, when doing 'df[col].method(value, inplace=True)', try using 'df.method({col: value}, inplace=True)' or df[col] = df[col].method(value) instead, to perform the operation inplace on the original object.\n",
      "\n",
      "\n",
      "  df['Salary'].fillna(mean_salary, inplace=True)\n"
     ]
    }
   ],
   "source": [
    "mean_salary = df['Salary'].mean()\n",
    "df['Salary'].fillna(mean_salary, inplace=True)\n",
    "print(df)"
   ]
  },
  {
   "cell_type": "code",
   "execution_count": 13,
   "metadata": {},
   "outputs": [
    {
     "name": "stdout",
     "output_type": "stream",
     "text": [
      "   ID     Name  Age   Salary Department  Triple_Age\n",
      "0   1    Alice   24  50000.0         HR          48\n",
      "1   2      Bob   30  60000.0    Finance          60\n",
      "2   3  Charlie   35  55000.0         HR          70\n",
      "3   4    David   29  56750.0         IT          58\n",
      "4   5      Eva   42  62000.0    Finance          84\n"
     ]
    }
   ],
   "source": [
    "df['Triple_Age'] = df['Age'] * 2\n",
    "print(df)"
   ]
  },
  {
   "cell_type": "code",
   "execution_count": 16,
   "metadata": {},
   "outputs": [
    {
     "name": "stdout",
     "output_type": "stream",
     "text": [
      "Department\n",
      "Finance    61000.0\n",
      "HR         52500.0\n",
      "IT         56750.0\n",
      "Name: Salary, dtype: float64\n"
     ]
    }
   ],
   "source": [
    "grouped = df.groupby('Department')['Salary'].mean()\n",
    "print(grouped)"
   ]
  },
  {
   "cell_type": "code",
   "execution_count": 18,
   "metadata": {},
   "outputs": [
    {
     "name": "stdout",
     "output_type": "stream",
     "text": [
      "   ID     Name  Age   Salary Department  Triple_Age         City\n",
      "0   1    Alice   24  50000.0         HR          48     New York\n",
      "1   2      Bob   30  60000.0    Finance          60  Los Angeles\n",
      "2   3  Charlie   35  55000.0         HR          70      Chicago\n",
      "3   4    David   29  56750.0         IT          58      Houston\n",
      "4   5      Eva   42  62000.0    Finance          84      Phoenix\n"
     ]
    }
   ],
   "source": [
    "df2 = pd.DataFrame({\n",
    "    'ID' : [1, 2, 3, 4, 5],\n",
    "    'City': ['New York', 'Los Angeles', 'Chicago', 'Houston', 'Phoenix']\n",
    "})\n",
    "\n",
    "merged_df = pd.merge(df, df2, on='ID')\n",
    "print(merged_df)"
   ]
  },
  {
   "cell_type": "code",
   "execution_count": 19,
   "metadata": {},
   "outputs": [
    {
     "name": "stdout",
     "output_type": "stream",
     "text": [
      "   ID     Name  Age   Salary Department  Triple_Age        Age_Name\n",
      "0   1    Alice   24  50000.0         HR          48         Younggg\n",
      "1   2      Bob   30  60000.0    Finance          60    Middlee mann\n",
      "2   3  Charlie   35  55000.0         HR          70    Middlee mann\n",
      "3   4    David   29  56750.0         IT          58         Younggg\n",
      "4   5      Eva   42  62000.0    Finance          84  Senior boommer\n"
     ]
    }
   ],
   "source": [
    "def age_cat(age):\n",
    "    if age < 30:\n",
    "        return 'Younggg'\n",
    "    elif 30 <= age <= 40:\n",
    "        return 'Middlee mann'\n",
    "    else:\n",
    "        return 'Senior boommer'\n",
    "    \n",
    "df['Age_Name'] = df['Age'].apply(age_cat)\n",
    "print(df)"
   ]
  },
  {
   "cell_type": "code",
   "execution_count": 21,
   "metadata": {},
   "outputs": [
    {
     "name": "stdout",
     "output_type": "stream",
     "text": [
      "Product       A    B\n",
      "Date                \n",
      "2024-10-01  100  150\n",
      "2024-10-02  200  250\n"
     ]
    }
   ],
   "source": [
    "# pivoted_dataframe = df.pivot(index='ID', columns='Name', values='Salary')\n",
    "# print(pivoted_dataframe)\n",
    "\n",
    "df = pd.DataFrame({\n",
    "    'Date': ['2024-10-01', '2024-10-01', '2024-10-02', '2024-10-02'],\n",
    "    'Product': ['A', 'B', 'A', 'B'],\n",
    "    'Sales': [100, 150, 200, 250]\n",
    "})\n",
    "pivot_df = df.pivot(index='Date', columns='Product', values='Sales')\n",
    "print(pivot_df)"
   ]
  }
 ],
 "metadata": {
  "kernelspec": {
   "display_name": ".venv",
   "language": "python",
   "name": "python3"
  },
  "language_info": {
   "codemirror_mode": {
    "name": "ipython",
    "version": 3
   },
   "file_extension": ".py",
   "mimetype": "text/x-python",
   "name": "python",
   "nbconvert_exporter": "python",
   "pygments_lexer": "ipython3",
   "version": "3.11.1"
  }
 },
 "nbformat": 4,
 "nbformat_minor": 2
}
