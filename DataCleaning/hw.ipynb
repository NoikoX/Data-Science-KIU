{
 "cells": [
  {
   "cell_type": "code",
   "execution_count": 32,
   "metadata": {},
   "outputs": [],
   "source": [
    "import pandas as pd\n",
    "import numpy as np\n",
    "import random\n",
    "from faker import Faker"
   ]
  },
  {
   "cell_type": "code",
   "execution_count": 33,
   "metadata": {},
   "outputs": [],
   "source": [
    "random.seed(42)\n",
    "np.random.seed(42)\n",
    "fake = Faker()"
   ]
  },
  {
   "cell_type": "code",
   "execution_count": 34,
   "metadata": {},
   "outputs": [],
   "source": [
    "data = {\n",
    "    \"Name\": [fake.name() for _ in range(100)],\n",
    "    \"Age\": [random.choice([25, 30, 35, np.nan, \"forty\", 50, 1000]) for _ in range(100)],\n",
    "    \"Salary\": [random.choice([50000, 60000, 70000, np.nan, 9999999, 100000]) for _ in range(100)],\n",
    "    \"Join_Date\": [fake.date_this_decade() if i % 10 != 0 else fake.date_this_century() for i in range(100)],\n",
    "    \"Department\": [random.choice([\"IT\", \"HR\", \"Finance\", None, \"Admin\", \"\"]) for _ in range(100)]\n",
    "}\n",
    "df = pd.DataFrame(data)\n",
    "\n",
    "df = pd.concat([df, df.iloc[:10]], ignore_index=True)\n",
    "\n",
    "invalid_dates = [\"32/01/2020\", \"2020-14-03\", \"01-01-20\", \"Invalid Date\"]\n",
    "indices = np.arange(0, len(df), 10)\n",
    "num_invalid_dates_needed = len(indices)\n",
    "invalid_dates_extended = (invalid_dates * (num_invalid_dates_needed // len(invalid_dates) + 1))[:num_invalid_dates_needed]\n",
    "df.loc[indices, \"Join_Date\"] = invalid_dates_extended\n",
    "\n",
    "# here thiss is shuffling as i get it\n",
    "df = df.sample(frac=1, random_state=42).reset_index(drop=True)\n",
    "\n",
    "df.to_csv('messy_dataset.csv', index=False)"
   ]
  },
  {
   "cell_type": "code",
   "execution_count": 35,
   "metadata": {},
   "outputs": [
    {
     "name": "stdout",
     "output_type": "stream",
     "text": [
      "missing values count :Name           0\n",
      "Age            9\n",
      "Salary        15\n",
      "Join_Date      0\n",
      "Department    34\n",
      "dtype: int64\n"
     ]
    }
   ],
   "source": [
    "df = pd.read_csv('messy_dataset.csv')\n",
    "# count the missing value in eachh column\n",
    "\n",
    "missing_count = df.isnull().sum()\n",
    "print(f\"missing values count :{missing_count}\")"
   ]
  },
  {
   "cell_type": "code",
   "execution_count": 36,
   "metadata": {},
   "outputs": [
    {
     "data": {
      "text/html": [
       "<div>\n",
       "<style scoped>\n",
       "    .dataframe tbody tr th:only-of-type {\n",
       "        vertical-align: middle;\n",
       "    }\n",
       "\n",
       "    .dataframe tbody tr th {\n",
       "        vertical-align: top;\n",
       "    }\n",
       "\n",
       "    .dataframe thead th {\n",
       "        text-align: right;\n",
       "    }\n",
       "</style>\n",
       "<table border=\"1\" class=\"dataframe\">\n",
       "  <thead>\n",
       "    <tr style=\"text-align: right;\">\n",
       "      <th></th>\n",
       "      <th>Name</th>\n",
       "      <th>Age</th>\n",
       "      <th>Salary</th>\n",
       "      <th>Join_Date</th>\n",
       "      <th>Department</th>\n",
       "    </tr>\n",
       "  </thead>\n",
       "  <tbody>\n",
       "    <tr>\n",
       "      <th>0</th>\n",
       "      <td>Nichole Lamb</td>\n",
       "      <td>50.0</td>\n",
       "      <td>100000.0</td>\n",
       "      <td>2023-06-27</td>\n",
       "      <td>NaN</td>\n",
       "    </tr>\n",
       "    <tr>\n",
       "      <th>1</th>\n",
       "      <td>Sydney Brown</td>\n",
       "      <td>50.0</td>\n",
       "      <td>NaN</td>\n",
       "      <td>2020-14-03</td>\n",
       "      <td>Finance</td>\n",
       "    </tr>\n",
       "    <tr>\n",
       "      <th>2</th>\n",
       "      <td>Tanya Welch</td>\n",
       "      <td>35.0</td>\n",
       "      <td>100000.0</td>\n",
       "      <td>2021-01-27</td>\n",
       "      <td>IT</td>\n",
       "    </tr>\n",
       "    <tr>\n",
       "      <th>3</th>\n",
       "      <td>James Little</td>\n",
       "      <td>30.0</td>\n",
       "      <td>NaN</td>\n",
       "      <td>2024-01-17</td>\n",
       "      <td>IT</td>\n",
       "    </tr>\n",
       "    <tr>\n",
       "      <th>4</th>\n",
       "      <td>Christopher Fletcher</td>\n",
       "      <td>35.0</td>\n",
       "      <td>NaN</td>\n",
       "      <td>2020-03-30</td>\n",
       "      <td>IT</td>\n",
       "    </tr>\n",
       "  </tbody>\n",
       "</table>\n",
       "</div>"
      ],
      "text/plain": [
       "                   Name   Age    Salary   Join_Date Department\n",
       "0          Nichole Lamb  50.0  100000.0  2023-06-27        NaN\n",
       "1          Sydney Brown  50.0       NaN  2020-14-03    Finance\n",
       "2           Tanya Welch  35.0  100000.0  2021-01-27         IT\n",
       "3          James Little  30.0       NaN  2024-01-17         IT\n",
       "4  Christopher Fletcher  35.0       NaN  2020-03-30         IT"
      ]
     },
     "execution_count": 36,
     "metadata": {},
     "output_type": "execute_result"
    }
   ],
   "source": [
    "# replace missing values in age with thierr median\n",
    "df['Age'] = pd.to_numeric(df['Age'], errors='coerce')\n",
    "median = df[\"Age\"].median()\n",
    "df.fillna({'Age': median}, inplace=True)\n",
    "df.head()"
   ]
  },
  {
   "cell_type": "code",
   "execution_count": 37,
   "metadata": {},
   "outputs": [
    {
     "data": {
      "text/html": [
       "<div>\n",
       "<style scoped>\n",
       "    .dataframe tbody tr th:only-of-type {\n",
       "        vertical-align: middle;\n",
       "    }\n",
       "\n",
       "    .dataframe tbody tr th {\n",
       "        vertical-align: top;\n",
       "    }\n",
       "\n",
       "    .dataframe thead th {\n",
       "        text-align: right;\n",
       "    }\n",
       "</style>\n",
       "<table border=\"1\" class=\"dataframe\">\n",
       "  <thead>\n",
       "    <tr style=\"text-align: right;\">\n",
       "      <th></th>\n",
       "      <th>Name</th>\n",
       "      <th>Age</th>\n",
       "      <th>Salary</th>\n",
       "      <th>Join_Date</th>\n",
       "      <th>Department</th>\n",
       "    </tr>\n",
       "  </thead>\n",
       "  <tbody>\n",
       "    <tr>\n",
       "      <th>0</th>\n",
       "      <td>Nichole Lamb</td>\n",
       "      <td>50.0</td>\n",
       "      <td>NaN</td>\n",
       "      <td>2023-06-27</td>\n",
       "      <td>Finance</td>\n",
       "    </tr>\n",
       "    <tr>\n",
       "      <th>1</th>\n",
       "      <td>Sydney Brown</td>\n",
       "      <td>50.0</td>\n",
       "      <td>100000.0</td>\n",
       "      <td>2020-14-03</td>\n",
       "      <td>Finance</td>\n",
       "    </tr>\n",
       "    <tr>\n",
       "      <th>2</th>\n",
       "      <td>Tanya Welch</td>\n",
       "      <td>35.0</td>\n",
       "      <td>100000.0</td>\n",
       "      <td>2021-01-27</td>\n",
       "      <td>IT</td>\n",
       "    </tr>\n",
       "    <tr>\n",
       "      <th>3</th>\n",
       "      <td>James Little</td>\n",
       "      <td>30.0</td>\n",
       "      <td>60000.0</td>\n",
       "      <td>2024-01-17</td>\n",
       "      <td>IT</td>\n",
       "    </tr>\n",
       "    <tr>\n",
       "      <th>4</th>\n",
       "      <td>Christopher Fletcher</td>\n",
       "      <td>35.0</td>\n",
       "      <td>60000.0</td>\n",
       "      <td>2020-03-30</td>\n",
       "      <td>IT</td>\n",
       "    </tr>\n",
       "  </tbody>\n",
       "</table>\n",
       "</div>"
      ],
      "text/plain": [
       "                   Name   Age    Salary   Join_Date Department\n",
       "0          Nichole Lamb  50.0       NaN  2023-06-27    Finance\n",
       "1          Sydney Brown  50.0  100000.0  2020-14-03    Finance\n",
       "2           Tanya Welch  35.0  100000.0  2021-01-27         IT\n",
       "3          James Little  30.0   60000.0  2024-01-17         IT\n",
       "4  Christopher Fletcher  35.0   60000.0  2020-03-30         IT"
      ]
     },
     "execution_count": 37,
     "metadata": {},
     "output_type": "execute_result"
    }
   ],
   "source": [
    "df['Salary'] = pd.to_numeric(df['Salary'], errors='coerce')\n",
    "df['Salary'] = df.groupby('Department')['Salary'].transform(lambda x: x.fillna(x.median()))\n",
    "\n",
    "age_bins = pd.cut(df['Age'], bins=[0, 25, 30, 35, 40, 100])\n",
    "\n",
    "mode_department = df.groupby(age_bins, observed=False)['Department'].agg(lambda x: x.mode().iloc[0] if not x.mode().empty else None)\n",
    "\n",
    "df['Department'] = df['Department'].fillna(df['Age'].map(mode_department))\n",
    "\n",
    "df.head()\n"
   ]
  },
  {
   "cell_type": "code",
   "execution_count": 38,
   "metadata": {},
   "outputs": [
    {
     "name": "stdout",
     "output_type": "stream",
     "text": [
      "9\n",
      "                   Name   Age     Salary   Join_Date Department\n",
      "2           Tanya Welch  35.0   100000.0  2021-01-27         IT\n",
      "18    Ashley Rogers PhD  50.0    60000.0  2023-01-04         IT\n",
      "32   Matthew Harrington  25.0    60000.0  2021-09-16         IT\n",
      "38              Amy Cox  30.0    60000.0  2024-01-03      Admin\n",
      "44          Tanya Welch  35.0   100000.0  2021-01-27         IT\n",
      "47    Nathaniel Watkins  30.0        NaN  2024-04-21         IT\n",
      "56    Ashley Rogers PhD  50.0    60000.0  2023-01-04         IT\n",
      "57         Sandra Scott  25.0   100000.0  2023-11-17         HR\n",
      "62        Barbara Green  50.0  9999999.0  2020-08-08      Admin\n",
      "66       Jessica Jensen  30.0  9999999.0  2021-12-03    Finance\n",
      "67              Amy Cox  30.0    60000.0  2024-01-03      Admin\n",
      "76       Jessica Jensen  30.0  9999999.0  2021-12-03    Finance\n",
      "85        Barbara Green  50.0  9999999.0  2020-08-08      Admin\n",
      "88    Nathaniel Watkins  30.0        NaN  2024-04-21         IT\n",
      "92         Sandra Scott  25.0   100000.0  2023-11-17         HR\n",
      "95         Charles Bush  25.0    50000.0  2024-09-20      Admin\n",
      "102  Matthew Harrington  25.0    60000.0  2021-09-16         IT\n",
      "109        Charles Bush  25.0    50000.0  2024-09-20      Admin\n"
     ]
    }
   ],
   "source": [
    "#identifying and removing duplicatess\n",
    "\n",
    "dupl_count = df.duplicated().sum()\n",
    "print(dupl_count)\n",
    "\n",
    "dupl_entries = df[df.duplicated(keep=False)]\n",
    "print(dupl_entries)\n",
    "\n",
    "df.drop_duplicates(inplace=True)\n",
    "# iff u run this cell >1 times it will output nothing cuz duplicates will be removed.."
   ]
  },
  {
   "cell_type": "code",
   "execution_count": 40,
   "metadata": {},
   "outputs": [
    {
     "data": {
      "text/plain": [
       "0         NaN\n",
       "1    100000.0\n",
       "2    100000.0\n",
       "3     60000.0\n",
       "4     60000.0\n",
       "Name: Salary, dtype: float64"
      ]
     },
     "execution_count": 40,
     "metadata": {},
     "output_type": "execute_result"
    }
   ],
   "source": [
    "df['Age'] = pd.to_numeric(df['Age'], errors='coerce')\n",
    "\n",
    "df['Salary'] = pd.to_numeric(df['Salary'], errors='coerce')\n",
    "\n",
    "salary_upper_limit = df['Salary'].quantile(0.95)\n",
    "df.loc[df['Salary'] > salary_upper_limit, 'Salary'] = df.groupby('Department')['Salary'].transform('median')\n",
    "df[\"Age\"].head()\n",
    "df[\"Salary\"].head()"
   ]
  },
  {
   "cell_type": "code",
   "execution_count": 42,
   "metadata": {},
   "outputs": [
    {
     "data": {
      "text/html": [
       "<div>\n",
       "<style scoped>\n",
       "    .dataframe tbody tr th:only-of-type {\n",
       "        vertical-align: middle;\n",
       "    }\n",
       "\n",
       "    .dataframe tbody tr th {\n",
       "        vertical-align: top;\n",
       "    }\n",
       "\n",
       "    .dataframe thead th {\n",
       "        text-align: right;\n",
       "    }\n",
       "</style>\n",
       "<table border=\"1\" class=\"dataframe\">\n",
       "  <thead>\n",
       "    <tr style=\"text-align: right;\">\n",
       "      <th></th>\n",
       "      <th>Name</th>\n",
       "      <th>Age</th>\n",
       "      <th>Salary</th>\n",
       "      <th>Join_Date</th>\n",
       "      <th>Department</th>\n",
       "    </tr>\n",
       "  </thead>\n",
       "  <tbody>\n",
       "    <tr>\n",
       "      <th>0</th>\n",
       "      <td>Nichole Lamb</td>\n",
       "      <td>50.0</td>\n",
       "      <td>NaN</td>\n",
       "      <td>2023-06-27</td>\n",
       "      <td>Finance</td>\n",
       "    </tr>\n",
       "    <tr>\n",
       "      <th>1</th>\n",
       "      <td>Sydney Brown</td>\n",
       "      <td>50.0</td>\n",
       "      <td>100000.0</td>\n",
       "      <td>2022-07-29</td>\n",
       "      <td>Finance</td>\n",
       "    </tr>\n",
       "    <tr>\n",
       "      <th>2</th>\n",
       "      <td>Tanya Welch</td>\n",
       "      <td>35.0</td>\n",
       "      <td>100000.0</td>\n",
       "      <td>2021-01-27</td>\n",
       "      <td>IT</td>\n",
       "    </tr>\n",
       "    <tr>\n",
       "      <th>3</th>\n",
       "      <td>James Little</td>\n",
       "      <td>30.0</td>\n",
       "      <td>60000.0</td>\n",
       "      <td>2024-01-17</td>\n",
       "      <td>IT</td>\n",
       "    </tr>\n",
       "    <tr>\n",
       "      <th>4</th>\n",
       "      <td>Christopher Fletcher</td>\n",
       "      <td>35.0</td>\n",
       "      <td>60000.0</td>\n",
       "      <td>2020-03-30</td>\n",
       "      <td>IT</td>\n",
       "    </tr>\n",
       "  </tbody>\n",
       "</table>\n",
       "</div>"
      ],
      "text/plain": [
       "                   Name   Age    Salary  Join_Date Department\n",
       "0          Nichole Lamb  50.0       NaN 2023-06-27    Finance\n",
       "1          Sydney Brown  50.0  100000.0 2022-07-29    Finance\n",
       "2           Tanya Welch  35.0  100000.0 2021-01-27         IT\n",
       "3          James Little  30.0   60000.0 2024-01-17         IT\n",
       "4  Christopher Fletcher  35.0   60000.0 2020-03-30         IT"
      ]
     },
     "execution_count": 42,
     "metadata": {},
     "output_type": "execute_result"
    }
   ],
   "source": [
    "df['Join_Date'] = pd.to_datetime(df['Join_Date'], errors='coerce')\n",
    "median_join_date = df['Join_Date'].median()\n",
    "\n",
    "df['Join_Date'] = df['Join_Date'].fillna(median_join_date)\n",
    "\n",
    "df.head()\n"
   ]
  },
  {
   "cell_type": "code",
   "execution_count": 50,
   "metadata": {},
   "outputs": [
    {
     "name": "stdout",
     "output_type": "stream",
     "text": [
      "average salary by department Department\n",
      "Admin      2.404706e+06\n",
      "Finance    1.740833e+06\n",
      "HR         2.284444e+06\n",
      "IT         1.487143e+06\n",
      "Name: Salary, dtype: float64\n",
      "most common join date 2022-07-29 00:00:00\n"
     ]
    },
    {
     "name": "stderr",
     "output_type": "stream",
     "text": [
      "C:\\Users\\NOIKO\\AppData\\Local\\Temp\\ipykernel_8368\\3296624985.py:13: FutureWarning: A value is trying to be set on a copy of a DataFrame or Series through chained assignment using an inplace method.\n",
      "The behavior will change in pandas 3.0. This inplace method will never work because the intermediate object on which we are setting values always behaves as a copy.\n",
      "\n",
      "For example, when doing 'df[col].method(value, inplace=True)', try using 'df.method({col: value}, inplace=True)' or df[col] = df[col].method(value) instead, to perform the operation inplace on the original object.\n",
      "\n",
      "\n",
      "  df['Age'].fillna(df['Age'].median(), inplace=True)\n"
     ]
    },
    {
     "data": {
      "image/png": "[encoded data removed]",
      "text/plain": [
       "<Figure size 1000x600 with 1 Axes>"
      ]
     },
     "metadata": {},
     "output_type": "display_data"
    },
    {
     "name": "stdout",
     "output_type": "stream",
     "text": [
      "Top Departments Department\n",
      "Finance    100000.0\n",
      "HR         100000.0\n",
      "Admin       70000.0\n",
      "Name: Salary, dtype: float64\n"
     ]
    }
   ],
   "source": [
    "#avg salary by departmentt\n",
    "average_salary_by_department = df.groupby('Department')['Salary'].mean()\n",
    "print(f\"average salary by department {average_salary_by_department}\")\n",
    "\n",
    "#most commonn join date\n",
    "most_common_join_date = df['Join_Date'].mode()[0]\n",
    "print(f\"most common join date {most_common_join_date}\")\n",
    "\n",
    "\n",
    "#data checkingg\n",
    "df['Age'] = pd.to_numeric(df['Age'], errors='coerce')\n",
    "df.loc[df['Age'] > 100, 'Age'] = np.nan\n",
    "df['Age'].fillna(df['Age'].median(), inplace=True)\n",
    "\n",
    "\n",
    "\n",
    "import matplotlib.pyplot as plt\n",
    "plt.figure(figsize=(10, 6))\n",
    "plt.hist(df['Age'], bins=5, color='skyblue', edgecolor='black')\n",
    "plt.title('Age Distribution')\n",
    "plt.xlabel('Age')\n",
    "plt.ylabel('Frequency')\n",
    "plt.grid(axis='y', alpha=0.75)\n",
    "plt.show()\n",
    "top_departments = df.groupby('Department')['Salary'].median().nlargest(3)\n",
    "print(f\"Top Departments {top_departments}\")\n"
   ]
  },
  {
   "cell_type": "code",
   "execution_count": 56,
   "metadata": {},
   "outputs": [
    {
     "name": "stdout",
     "output_type": "stream",
     "text": [
      "0    1\n",
      "1    2\n",
      "2    3\n",
      "3    0\n",
      "4    4\n",
      "Name: Tenure, dtype: int64\n",
      "\n",
      "0    Less Experienced\n",
      "1    Less Experienced\n",
      "2    Less Experienced\n",
      "3    Less Experienced\n",
      "4    Less Experienced\n",
      "Name: Tenure_Category, dtype: object\n"
     ]
    }
   ],
   "source": [
    "#bonussss\n",
    "# tenure or each employee\n",
    "df['Join_Date'] = pd.to_datetime(df['Join_Date'])\n",
    "current_date = pd.to_datetime('today')\n",
    "\n",
    "df['Tenure'] = (current_date - df['Join_Date']).dt.days // 365\n",
    "\n",
    "\n",
    "df['Tenure_Category'] = np.where(df['Tenure'] > 5, 'Experienced', 'Less Experienced')\n",
    "print(df[\"Tenure\"].head())\n",
    "print()\n",
    "print(df[\"Tenure_Category\"].head())\n"
   ]
  }
 ],
 "metadata": {
  "kernelspec": {
   "display_name": ".venv",
   "language": "python",
   "name": "python3"
  },
  "language_info": {
   "codemirror_mode": {
    "name": "ipython",
    "version": 3
   },
   "file_extension": ".py",
   "mimetype": "text/x-python",
   "name": "python",
   "nbconvert_exporter": "python",
   "pygments_lexer": "ipython3",
   "version": "3.11.1"
  }
 },
 "nbformat": 4,
 "nbformat_minor": 2
}
